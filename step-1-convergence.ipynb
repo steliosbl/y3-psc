{
 "cells": [
  {
   "cell_type": "code",
   "execution_count": 61,
   "metadata": {},
   "outputs": [],
   "source": [
    "import os, subprocess\n",
    "import pandas as pd\n",
    "from tqdm.notebook import tqdm\n",
    "from multiprocessing import Pool"
   ]
  },
  {
   "cell_type": "code",
   "execution_count": 42,
   "metadata": {},
   "outputs": [],
   "source": [
    "def run(step_size=0.001, distance=1):\n",
    "    args = ' '.join([\n",
    "        './a.out',\n",
    "        '1 1', str(step_size), \n",
    "        f'0 0 {str(-distance/2)} 0 0 0 1',\n",
    "        f'0 0 {str(distance/2)} 0 0 0 1'\n",
    "    ])\n",
    "\n",
    "    out = subprocess.run(args.split(' '), text=True, capture_output=True)\n",
    "    return [float(_) for _ in out.stdout.split('\\n')[-2].split(':')[1].split(',')]"
   ]
  },
  {
   "cell_type": "code",
   "execution_count": 81,
   "metadata": {},
   "outputs": [
    {
     "data": {
      "application/vnd.jupyter.widget-view+json": {
       "model_id": "b6eeeb4f65a9491dbe8b62300d07b578",
       "version_major": 2,
       "version_minor": 0
      },
      "text/plain": [
       "  0%|          | 0/9999 [00:00<?, ?it/s]"
      ]
     },
     "metadata": {},
     "output_type": "display_data"
    }
   ],
   "source": [
    "r = []\n",
    "def f(i) :\n",
    "    v = 0.0000001*i\n",
    "    return (v, run(v)[-1])\n",
    "    r.append((v, run(v)[-1]))\n",
    "\n",
    "with Pool(8) as p:\n",
    "    r = [_ for _ in tqdm(p.imap_unordered(f, range(1,10000)), total=9999)]"
   ]
  },
  {
   "cell_type": "code",
   "execution_count": 82,
   "metadata": {},
   "outputs": [
    {
     "data": {
      "text/plain": [
       "<AxesSubplot:xlabel='step_size'>"
      ]
     },
     "execution_count": 82,
     "metadata": {},
     "output_type": "execute_result"
    },
    {
     "data": {
      "image/png": "[encoded data removed]",
      "text/plain": [
       "<Figure size 432x288 with 1 Axes>"
      ]
     },
     "metadata": {
      "needs_background": "light"
     },
     "output_type": "display_data"
    }
   ],
   "source": [
    "pd.DataFrame(r, columns=['step_size', 'result']).set_index('step_size').plot()"
   ]
  }
 ],
 "metadata": {
  "interpreter": {
   "hash": "ef7cb4e433ce995ae0228fd1d62545704914ad477ff8f54cdf951de296ae56ca"
  },
  "kernelspec": {
   "display_name": "Python 3.9.5 64-bit ('py39': conda)",
   "language": "python",
   "name": "python3"
  },
  "language_info": {
   "codemirror_mode": {
    "name": "ipython",
    "version": 3
   },
   "file_extension": ".py",
   "mimetype": "text/x-python",
   "name": "python",
   "nbconvert_exporter": "python",
   "pygments_lexer": "ipython3",
   "version": "3.9.5"
  },
  "orig_nbformat": 4
 },
 "nbformat": 4,
 "nbformat_minor": 2
}
